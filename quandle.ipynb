{
 "cells": [
  {
   "cell_type": "code",
   "execution_count": 1,
   "metadata": {},
   "outputs": [],
   "source": [
    "import pandas as pd\n",
    "import math, datetime\n",
    "import numpy as np\n",
    "from sklearn import preprocessing, svm\n",
    "from sklearn.model_selection import train_test_split\n",
    "from sklearn.linear_model import LinearRegression\n",
    "import matplotlib.pyplot as plt\n",
    "from matplotlib import style\n",
    "style.use('ggplot')"
   ]
  },
  {
   "cell_type": "code",
   "execution_count": 2,
   "metadata": {},
   "outputs": [],
   "source": [
    "df = pd.read_csv('stock.csv')"
   ]
  },
  {
   "cell_type": "code",
   "execution_count": 3,
   "metadata": {},
   "outputs": [
    {
     "data": {
      "text/html": [
       "<div>\n",
       "<style scoped>\n",
       "    .dataframe tbody tr th:only-of-type {\n",
       "        vertical-align: middle;\n",
       "    }\n",
       "\n",
       "    .dataframe tbody tr th {\n",
       "        vertical-align: top;\n",
       "    }\n",
       "\n",
       "    .dataframe thead th {\n",
       "        text-align: right;\n",
       "    }\n",
       "</style>\n",
       "<table border=\"1\" class=\"dataframe\">\n",
       "  <thead>\n",
       "    <tr style=\"text-align: right;\">\n",
       "      <th></th>\n",
       "      <th>Open</th>\n",
       "      <th>High</th>\n",
       "      <th>Low</th>\n",
       "      <th>Close</th>\n",
       "      <th>Volume</th>\n",
       "      <th>Ex-Dividend</th>\n",
       "      <th>Split Ratio</th>\n",
       "      <th>Adj. Open</th>\n",
       "      <th>Adj. High</th>\n",
       "      <th>Adj. Low</th>\n",
       "      <th>Adj. Close</th>\n",
       "      <th>Adj. Volume</th>\n",
       "    </tr>\n",
       "  </thead>\n",
       "  <tbody>\n",
       "    <tr>\n",
       "      <th>Open</th>\n",
       "      <td>1.000000</td>\n",
       "      <td>0.999754</td>\n",
       "      <td>0.999623</td>\n",
       "      <td>0.999384</td>\n",
       "      <td>-0.552175</td>\n",
       "      <td>-0.001748</td>\n",
       "      <td>NaN</td>\n",
       "      <td>0.815955</td>\n",
       "      <td>0.815283</td>\n",
       "      <td>0.816261</td>\n",
       "      <td>0.815542</td>\n",
       "      <td>-0.552175</td>\n",
       "    </tr>\n",
       "    <tr>\n",
       "      <th>High</th>\n",
       "      <td>0.999754</td>\n",
       "      <td>1.000000</td>\n",
       "      <td>0.999577</td>\n",
       "      <td>0.999677</td>\n",
       "      <td>-0.548985</td>\n",
       "      <td>-0.001032</td>\n",
       "      <td>NaN</td>\n",
       "      <td>0.815531</td>\n",
       "      <td>0.815145</td>\n",
       "      <td>0.815956</td>\n",
       "      <td>0.815432</td>\n",
       "      <td>-0.548985</td>\n",
       "    </tr>\n",
       "    <tr>\n",
       "      <th>Low</th>\n",
       "      <td>0.999623</td>\n",
       "      <td>0.999577</td>\n",
       "      <td>1.000000</td>\n",
       "      <td>0.999746</td>\n",
       "      <td>-0.557796</td>\n",
       "      <td>-0.001859</td>\n",
       "      <td>NaN</td>\n",
       "      <td>0.815933</td>\n",
       "      <td>0.815380</td>\n",
       "      <td>0.816688</td>\n",
       "      <td>0.815961</td>\n",
       "      <td>-0.557796</td>\n",
       "    </tr>\n",
       "    <tr>\n",
       "      <th>Close</th>\n",
       "      <td>0.999384</td>\n",
       "      <td>0.999677</td>\n",
       "      <td>0.999746</td>\n",
       "      <td>1.000000</td>\n",
       "      <td>-0.553778</td>\n",
       "      <td>-0.001872</td>\n",
       "      <td>NaN</td>\n",
       "      <td>0.815732</td>\n",
       "      <td>0.815374</td>\n",
       "      <td>0.816479</td>\n",
       "      <td>0.816047</td>\n",
       "      <td>-0.553778</td>\n",
       "    </tr>\n",
       "    <tr>\n",
       "      <th>Volume</th>\n",
       "      <td>-0.552175</td>\n",
       "      <td>-0.548985</td>\n",
       "      <td>-0.557796</td>\n",
       "      <td>-0.553778</td>\n",
       "      <td>1.000000</td>\n",
       "      <td>-0.007876</td>\n",
       "      <td>NaN</td>\n",
       "      <td>-0.549529</td>\n",
       "      <td>-0.547943</td>\n",
       "      <td>-0.552269</td>\n",
       "      <td>-0.550264</td>\n",
       "      <td>1.000000</td>\n",
       "    </tr>\n",
       "    <tr>\n",
       "      <th>Ex-Dividend</th>\n",
       "      <td>-0.001748</td>\n",
       "      <td>-0.001032</td>\n",
       "      <td>-0.001859</td>\n",
       "      <td>-0.001872</td>\n",
       "      <td>-0.007876</td>\n",
       "      <td>1.000000</td>\n",
       "      <td>NaN</td>\n",
       "      <td>0.010884</td>\n",
       "      <td>0.011568</td>\n",
       "      <td>0.010737</td>\n",
       "      <td>0.010773</td>\n",
       "      <td>-0.007876</td>\n",
       "    </tr>\n",
       "    <tr>\n",
       "      <th>Split Ratio</th>\n",
       "      <td>NaN</td>\n",
       "      <td>NaN</td>\n",
       "      <td>NaN</td>\n",
       "      <td>NaN</td>\n",
       "      <td>NaN</td>\n",
       "      <td>NaN</td>\n",
       "      <td>NaN</td>\n",
       "      <td>NaN</td>\n",
       "      <td>NaN</td>\n",
       "      <td>NaN</td>\n",
       "      <td>NaN</td>\n",
       "      <td>NaN</td>\n",
       "    </tr>\n",
       "    <tr>\n",
       "      <th>Adj. Open</th>\n",
       "      <td>0.815955</td>\n",
       "      <td>0.815531</td>\n",
       "      <td>0.815933</td>\n",
       "      <td>0.815732</td>\n",
       "      <td>-0.549529</td>\n",
       "      <td>0.010884</td>\n",
       "      <td>NaN</td>\n",
       "      <td>1.000000</td>\n",
       "      <td>0.999906</td>\n",
       "      <td>0.999849</td>\n",
       "      <td>0.999758</td>\n",
       "      <td>-0.549529</td>\n",
       "    </tr>\n",
       "    <tr>\n",
       "      <th>Adj. High</th>\n",
       "      <td>0.815283</td>\n",
       "      <td>0.815145</td>\n",
       "      <td>0.815380</td>\n",
       "      <td>0.815374</td>\n",
       "      <td>-0.547943</td>\n",
       "      <td>0.011568</td>\n",
       "      <td>NaN</td>\n",
       "      <td>0.999906</td>\n",
       "      <td>1.000000</td>\n",
       "      <td>0.999832</td>\n",
       "      <td>0.999869</td>\n",
       "      <td>-0.547943</td>\n",
       "    </tr>\n",
       "    <tr>\n",
       "      <th>Adj. Low</th>\n",
       "      <td>0.816261</td>\n",
       "      <td>0.815956</td>\n",
       "      <td>0.816688</td>\n",
       "      <td>0.816479</td>\n",
       "      <td>-0.552269</td>\n",
       "      <td>0.010737</td>\n",
       "      <td>NaN</td>\n",
       "      <td>0.999849</td>\n",
       "      <td>0.999832</td>\n",
       "      <td>1.000000</td>\n",
       "      <td>0.999902</td>\n",
       "      <td>-0.552269</td>\n",
       "    </tr>\n",
       "    <tr>\n",
       "      <th>Adj. Close</th>\n",
       "      <td>0.815542</td>\n",
       "      <td>0.815432</td>\n",
       "      <td>0.815961</td>\n",
       "      <td>0.816047</td>\n",
       "      <td>-0.550264</td>\n",
       "      <td>0.010773</td>\n",
       "      <td>NaN</td>\n",
       "      <td>0.999758</td>\n",
       "      <td>0.999869</td>\n",
       "      <td>0.999902</td>\n",
       "      <td>1.000000</td>\n",
       "      <td>-0.550264</td>\n",
       "    </tr>\n",
       "    <tr>\n",
       "      <th>Adj. Volume</th>\n",
       "      <td>-0.552175</td>\n",
       "      <td>-0.548985</td>\n",
       "      <td>-0.557796</td>\n",
       "      <td>-0.553778</td>\n",
       "      <td>1.000000</td>\n",
       "      <td>-0.007876</td>\n",
       "      <td>NaN</td>\n",
       "      <td>-0.549529</td>\n",
       "      <td>-0.547943</td>\n",
       "      <td>-0.552269</td>\n",
       "      <td>-0.550264</td>\n",
       "      <td>1.000000</td>\n",
       "    </tr>\n",
       "  </tbody>\n",
       "</table>\n",
       "</div>"
      ],
      "text/plain": [
       "                 Open      High       Low     Close    Volume  Ex-Dividend  \\\n",
       "Open         1.000000  0.999754  0.999623  0.999384 -0.552175    -0.001748   \n",
       "High         0.999754  1.000000  0.999577  0.999677 -0.548985    -0.001032   \n",
       "Low          0.999623  0.999577  1.000000  0.999746 -0.557796    -0.001859   \n",
       "Close        0.999384  0.999677  0.999746  1.000000 -0.553778    -0.001872   \n",
       "Volume      -0.552175 -0.548985 -0.557796 -0.553778  1.000000    -0.007876   \n",
       "Ex-Dividend -0.001748 -0.001032 -0.001859 -0.001872 -0.007876     1.000000   \n",
       "Split Ratio       NaN       NaN       NaN       NaN       NaN          NaN   \n",
       "Adj. Open    0.815955  0.815531  0.815933  0.815732 -0.549529     0.010884   \n",
       "Adj. High    0.815283  0.815145  0.815380  0.815374 -0.547943     0.011568   \n",
       "Adj. Low     0.816261  0.815956  0.816688  0.816479 -0.552269     0.010737   \n",
       "Adj. Close   0.815542  0.815432  0.815961  0.816047 -0.550264     0.010773   \n",
       "Adj. Volume -0.552175 -0.548985 -0.557796 -0.553778  1.000000    -0.007876   \n",
       "\n",
       "             Split Ratio  Adj. Open  Adj. High  Adj. Low  Adj. Close  \\\n",
       "Open                 NaN   0.815955   0.815283  0.816261    0.815542   \n",
       "High                 NaN   0.815531   0.815145  0.815956    0.815432   \n",
       "Low                  NaN   0.815933   0.815380  0.816688    0.815961   \n",
       "Close                NaN   0.815732   0.815374  0.816479    0.816047   \n",
       "Volume               NaN  -0.549529  -0.547943 -0.552269   -0.550264   \n",
       "Ex-Dividend          NaN   0.010884   0.011568  0.010737    0.010773   \n",
       "Split Ratio          NaN        NaN        NaN       NaN         NaN   \n",
       "Adj. Open            NaN   1.000000   0.999906  0.999849    0.999758   \n",
       "Adj. High            NaN   0.999906   1.000000  0.999832    0.999869   \n",
       "Adj. Low             NaN   0.999849   0.999832  1.000000    0.999902   \n",
       "Adj. Close           NaN   0.999758   0.999869  0.999902    1.000000   \n",
       "Adj. Volume          NaN  -0.549529  -0.547943 -0.552269   -0.550264   \n",
       "\n",
       "             Adj. Volume  \n",
       "Open           -0.552175  \n",
       "High           -0.548985  \n",
       "Low            -0.557796  \n",
       "Close          -0.553778  \n",
       "Volume          1.000000  \n",
       "Ex-Dividend    -0.007876  \n",
       "Split Ratio          NaN  \n",
       "Adj. Open      -0.549529  \n",
       "Adj. High      -0.547943  \n",
       "Adj. Low       -0.552269  \n",
       "Adj. Close     -0.550264  \n",
       "Adj. Volume     1.000000  "
      ]
     },
     "execution_count": 3,
     "metadata": {},
     "output_type": "execute_result"
    }
   ],
   "source": [
    "df.corr()"
   ]
  },
  {
   "cell_type": "code",
   "execution_count": 4,
   "metadata": {},
   "outputs": [],
   "source": [
    "df = df[['Adj. Open', 'Adj. High', 'Adj. Low', 'Adj. Close', 'Adj. Volume']]"
   ]
  },
  {
   "cell_type": "code",
   "execution_count": 5,
   "metadata": {},
   "outputs": [],
   "source": [
    "df['HL_PCT'] = ((df['Adj. High'] - df['Adj. Close']) / df['Adj. Close']) * 100\n",
    "df['PCT_change'] = ((df['Adj. Close'] - df['Adj. Open']) / df['Adj. Open']) * 100"
   ]
  },
  {
   "cell_type": "code",
   "execution_count": 6,
   "metadata": {},
   "outputs": [],
   "source": [
    "df = df[['Adj. Close', 'HL_PCT', 'PCT_change', 'Adj. Volume']]"
   ]
  },
  {
   "cell_type": "code",
   "execution_count": 7,
   "metadata": {},
   "outputs": [
    {
     "data": {
      "text/html": [
       "<div>\n",
       "<style scoped>\n",
       "    .dataframe tbody tr th:only-of-type {\n",
       "        vertical-align: middle;\n",
       "    }\n",
       "\n",
       "    .dataframe tbody tr th {\n",
       "        vertical-align: top;\n",
       "    }\n",
       "\n",
       "    .dataframe thead th {\n",
       "        text-align: right;\n",
       "    }\n",
       "</style>\n",
       "<table border=\"1\" class=\"dataframe\">\n",
       "  <thead>\n",
       "    <tr style=\"text-align: right;\">\n",
       "      <th></th>\n",
       "      <th>Adj. Close</th>\n",
       "      <th>HL_PCT</th>\n",
       "      <th>PCT_change</th>\n",
       "      <th>Adj. Volume</th>\n",
       "    </tr>\n",
       "  </thead>\n",
       "  <tbody>\n",
       "    <tr>\n",
       "      <th>0</th>\n",
       "      <td>50.322842</td>\n",
       "      <td>3.712563</td>\n",
       "      <td>0.324968</td>\n",
       "      <td>44659000.0</td>\n",
       "    </tr>\n",
       "    <tr>\n",
       "      <th>1</th>\n",
       "      <td>54.322689</td>\n",
       "      <td>0.710922</td>\n",
       "      <td>7.227007</td>\n",
       "      <td>22834300.0</td>\n",
       "    </tr>\n",
       "    <tr>\n",
       "      <th>2</th>\n",
       "      <td>54.869377</td>\n",
       "      <td>3.729433</td>\n",
       "      <td>-1.227880</td>\n",
       "      <td>18256100.0</td>\n",
       "    </tr>\n",
       "    <tr>\n",
       "      <th>3</th>\n",
       "      <td>52.597363</td>\n",
       "      <td>6.417469</td>\n",
       "      <td>-5.726357</td>\n",
       "      <td>15247300.0</td>\n",
       "    </tr>\n",
       "    <tr>\n",
       "      <th>4</th>\n",
       "      <td>53.164113</td>\n",
       "      <td>1.886792</td>\n",
       "      <td>1.183658</td>\n",
       "      <td>9188600.0</td>\n",
       "    </tr>\n",
       "    <tr>\n",
       "      <th>...</th>\n",
       "      <td>...</td>\n",
       "      <td>...</td>\n",
       "      <td>...</td>\n",
       "      <td>...</td>\n",
       "    </tr>\n",
       "    <tr>\n",
       "      <th>3419</th>\n",
       "      <td>1094.000000</td>\n",
       "      <td>1.343693</td>\n",
       "      <td>0.130884</td>\n",
       "      <td>1990515.0</td>\n",
       "    </tr>\n",
       "    <tr>\n",
       "      <th>3420</th>\n",
       "      <td>1053.150000</td>\n",
       "      <td>2.921711</td>\n",
       "      <td>-2.487014</td>\n",
       "      <td>3418154.0</td>\n",
       "    </tr>\n",
       "    <tr>\n",
       "      <th>3421</th>\n",
       "      <td>1026.550000</td>\n",
       "      <td>3.918952</td>\n",
       "      <td>-2.360729</td>\n",
       "      <td>2413517.0</td>\n",
       "    </tr>\n",
       "    <tr>\n",
       "      <th>3422</th>\n",
       "      <td>1054.090000</td>\n",
       "      <td>0.491419</td>\n",
       "      <td>0.332191</td>\n",
       "      <td>3272409.0</td>\n",
       "    </tr>\n",
       "    <tr>\n",
       "      <th>3423</th>\n",
       "      <td>1006.940000</td>\n",
       "      <td>5.720301</td>\n",
       "      <td>-5.353887</td>\n",
       "      <td>2940957.0</td>\n",
       "    </tr>\n",
       "  </tbody>\n",
       "</table>\n",
       "<p>3424 rows × 4 columns</p>\n",
       "</div>"
      ],
      "text/plain": [
       "       Adj. Close    HL_PCT  PCT_change  Adj. Volume\n",
       "0       50.322842  3.712563    0.324968   44659000.0\n",
       "1       54.322689  0.710922    7.227007   22834300.0\n",
       "2       54.869377  3.729433   -1.227880   18256100.0\n",
       "3       52.597363  6.417469   -5.726357   15247300.0\n",
       "4       53.164113  1.886792    1.183658    9188600.0\n",
       "...           ...       ...         ...          ...\n",
       "3419  1094.000000  1.343693    0.130884    1990515.0\n",
       "3420  1053.150000  2.921711   -2.487014    3418154.0\n",
       "3421  1026.550000  3.918952   -2.360729    2413517.0\n",
       "3422  1054.090000  0.491419    0.332191    3272409.0\n",
       "3423  1006.940000  5.720301   -5.353887    2940957.0\n",
       "\n",
       "[3424 rows x 4 columns]"
      ]
     },
     "execution_count": 7,
     "metadata": {},
     "output_type": "execute_result"
    }
   ],
   "source": [
    "df"
   ]
  },
  {
   "cell_type": "code",
   "execution_count": 8,
   "metadata": {},
   "outputs": [],
   "source": [
    "forecast_col = 'Adj. Close'\n",
    "df.fillna(-99999, inplace = True)\n",
    "\n",
    "forecast_out = int(math.ceil(0.01*len(df)))"
   ]
  },
  {
   "cell_type": "code",
   "execution_count": 9,
   "metadata": {},
   "outputs": [],
   "source": [
    "df['label'] = df[forecast_col].shift(-forecast_out)"
   ]
  },
  {
   "cell_type": "code",
   "execution_count": 10,
   "metadata": {},
   "outputs": [],
   "source": [
    "len(df[forecast_col])\n",
    "\n",
    "a = df[forecast_col].shift(forecast_out)"
   ]
  },
  {
   "cell_type": "code",
   "execution_count": 11,
   "metadata": {},
   "outputs": [
    {
     "data": {
      "text/plain": [
       "0           NaN\n",
       "1           NaN\n",
       "2           NaN\n",
       "3           NaN\n",
       "4           NaN\n",
       "         ...   \n",
       "3419    1177.37\n",
       "3420    1182.22\n",
       "3421    1181.59\n",
       "3422    1119.20\n",
       "3423    1068.76\n",
       "Name: Adj. Close, Length: 3424, dtype: float64"
      ]
     },
     "execution_count": 11,
     "metadata": {},
     "output_type": "execute_result"
    }
   ],
   "source": [
    "a"
   ]
  },
  {
   "cell_type": "code",
   "execution_count": 12,
   "metadata": {},
   "outputs": [],
   "source": [
    "b =  df[forecast_col].shift(-forecast_out)"
   ]
  },
  {
   "cell_type": "code",
   "execution_count": 13,
   "metadata": {},
   "outputs": [
    {
     "data": {
      "text/html": [
       "<div>\n",
       "<style scoped>\n",
       "    .dataframe tbody tr th:only-of-type {\n",
       "        vertical-align: middle;\n",
       "    }\n",
       "\n",
       "    .dataframe tbody tr th {\n",
       "        vertical-align: top;\n",
       "    }\n",
       "\n",
       "    .dataframe thead th {\n",
       "        text-align: right;\n",
       "    }\n",
       "</style>\n",
       "<table border=\"1\" class=\"dataframe\">\n",
       "  <thead>\n",
       "    <tr style=\"text-align: right;\">\n",
       "      <th></th>\n",
       "      <th>Adj. Close</th>\n",
       "      <th>HL_PCT</th>\n",
       "      <th>PCT_change</th>\n",
       "      <th>Adj. Volume</th>\n",
       "      <th>label</th>\n",
       "    </tr>\n",
       "  </thead>\n",
       "  <tbody>\n",
       "    <tr>\n",
       "      <th>0</th>\n",
       "      <td>50.322842</td>\n",
       "      <td>3.712563</td>\n",
       "      <td>0.324968</td>\n",
       "      <td>44659000.0</td>\n",
       "      <td>69.078238</td>\n",
       "    </tr>\n",
       "    <tr>\n",
       "      <th>1</th>\n",
       "      <td>54.322689</td>\n",
       "      <td>0.710922</td>\n",
       "      <td>7.227007</td>\n",
       "      <td>22834300.0</td>\n",
       "      <td>67.839414</td>\n",
       "    </tr>\n",
       "    <tr>\n",
       "      <th>2</th>\n",
       "      <td>54.869377</td>\n",
       "      <td>3.729433</td>\n",
       "      <td>-1.227880</td>\n",
       "      <td>18256100.0</td>\n",
       "      <td>68.912727</td>\n",
       "    </tr>\n",
       "    <tr>\n",
       "      <th>3</th>\n",
       "      <td>52.597363</td>\n",
       "      <td>6.417469</td>\n",
       "      <td>-5.726357</td>\n",
       "      <td>15247300.0</td>\n",
       "      <td>70.668146</td>\n",
       "    </tr>\n",
       "    <tr>\n",
       "      <th>4</th>\n",
       "      <td>53.164113</td>\n",
       "      <td>1.886792</td>\n",
       "      <td>1.183658</td>\n",
       "      <td>9188600.0</td>\n",
       "      <td>71.219849</td>\n",
       "    </tr>\n",
       "  </tbody>\n",
       "</table>\n",
       "</div>"
      ],
      "text/plain": [
       "   Adj. Close    HL_PCT  PCT_change  Adj. Volume      label\n",
       "0   50.322842  3.712563    0.324968   44659000.0  69.078238\n",
       "1   54.322689  0.710922    7.227007   22834300.0  67.839414\n",
       "2   54.869377  3.729433   -1.227880   18256100.0  68.912727\n",
       "3   52.597363  6.417469   -5.726357   15247300.0  70.668146\n",
       "4   53.164113  1.886792    1.183658    9188600.0  71.219849"
      ]
     },
     "execution_count": 13,
     "metadata": {},
     "output_type": "execute_result"
    }
   ],
   "source": [
    "df.head()"
   ]
  },
  {
   "cell_type": "code",
   "execution_count": 14,
   "metadata": {},
   "outputs": [
    {
     "data": {
      "text/html": [
       "<div>\n",
       "<style scoped>\n",
       "    .dataframe tbody tr th:only-of-type {\n",
       "        vertical-align: middle;\n",
       "    }\n",
       "\n",
       "    .dataframe tbody tr th {\n",
       "        vertical-align: top;\n",
       "    }\n",
       "\n",
       "    .dataframe thead th {\n",
       "        text-align: right;\n",
       "    }\n",
       "</style>\n",
       "<table border=\"1\" class=\"dataframe\">\n",
       "  <thead>\n",
       "    <tr style=\"text-align: right;\">\n",
       "      <th></th>\n",
       "      <th>Adj. Close</th>\n",
       "      <th>HL_PCT</th>\n",
       "      <th>PCT_change</th>\n",
       "      <th>Adj. Volume</th>\n",
       "      <th>label</th>\n",
       "    </tr>\n",
       "  </thead>\n",
       "  <tbody>\n",
       "    <tr>\n",
       "      <th>3384</th>\n",
       "      <td>1177.37</td>\n",
       "      <td>0.896914</td>\n",
       "      <td>-0.029718</td>\n",
       "      <td>1792602.0</td>\n",
       "      <td>1094.00</td>\n",
       "    </tr>\n",
       "    <tr>\n",
       "      <th>3385</th>\n",
       "      <td>1182.22</td>\n",
       "      <td>0.346805</td>\n",
       "      <td>-0.134312</td>\n",
       "      <td>1643877.0</td>\n",
       "      <td>1053.15</td>\n",
       "    </tr>\n",
       "    <tr>\n",
       "      <th>3386</th>\n",
       "      <td>1181.59</td>\n",
       "      <td>0.495942</td>\n",
       "      <td>0.476195</td>\n",
       "      <td>2774967.0</td>\n",
       "      <td>1026.55</td>\n",
       "    </tr>\n",
       "    <tr>\n",
       "      <th>3387</th>\n",
       "      <td>1119.20</td>\n",
       "      <td>1.081129</td>\n",
       "      <td>-0.729098</td>\n",
       "      <td>5798880.0</td>\n",
       "      <td>1054.09</td>\n",
       "    </tr>\n",
       "    <tr>\n",
       "      <th>3388</th>\n",
       "      <td>1068.76</td>\n",
       "      <td>4.325574</td>\n",
       "      <td>-2.893850</td>\n",
       "      <td>3742469.0</td>\n",
       "      <td>1006.94</td>\n",
       "    </tr>\n",
       "  </tbody>\n",
       "</table>\n",
       "</div>"
      ],
      "text/plain": [
       "      Adj. Close    HL_PCT  PCT_change  Adj. Volume    label\n",
       "3384     1177.37  0.896914   -0.029718    1792602.0  1094.00\n",
       "3385     1182.22  0.346805   -0.134312    1643877.0  1053.15\n",
       "3386     1181.59  0.495942    0.476195    2774967.0  1026.55\n",
       "3387     1119.20  1.081129   -0.729098    5798880.0  1054.09\n",
       "3388     1068.76  4.325574   -2.893850    3742469.0  1006.94"
      ]
     },
     "execution_count": 14,
     "metadata": {},
     "output_type": "execute_result"
    }
   ],
   "source": [
    "df.dropna(inplace = True)\n",
    "df.tail()"
   ]
  },
  {
   "cell_type": "code",
   "execution_count": 15,
   "metadata": {},
   "outputs": [
    {
     "data": {
      "text/html": [
       "<div>\n",
       "<style scoped>\n",
       "    .dataframe tbody tr th:only-of-type {\n",
       "        vertical-align: middle;\n",
       "    }\n",
       "\n",
       "    .dataframe tbody tr th {\n",
       "        vertical-align: top;\n",
       "    }\n",
       "\n",
       "    .dataframe thead th {\n",
       "        text-align: right;\n",
       "    }\n",
       "</style>\n",
       "<table border=\"1\" class=\"dataframe\">\n",
       "  <thead>\n",
       "    <tr style=\"text-align: right;\">\n",
       "      <th></th>\n",
       "      <th>Adj. Close</th>\n",
       "      <th>HL_PCT</th>\n",
       "      <th>PCT_change</th>\n",
       "      <th>Adj. Volume</th>\n",
       "      <th>label</th>\n",
       "    </tr>\n",
       "  </thead>\n",
       "  <tbody>\n",
       "    <tr>\n",
       "      <th>0</th>\n",
       "      <td>50.322842</td>\n",
       "      <td>3.712563</td>\n",
       "      <td>0.324968</td>\n",
       "      <td>44659000.0</td>\n",
       "      <td>69.078238</td>\n",
       "    </tr>\n",
       "    <tr>\n",
       "      <th>1</th>\n",
       "      <td>54.322689</td>\n",
       "      <td>0.710922</td>\n",
       "      <td>7.227007</td>\n",
       "      <td>22834300.0</td>\n",
       "      <td>67.839414</td>\n",
       "    </tr>\n",
       "    <tr>\n",
       "      <th>2</th>\n",
       "      <td>54.869377</td>\n",
       "      <td>3.729433</td>\n",
       "      <td>-1.227880</td>\n",
       "      <td>18256100.0</td>\n",
       "      <td>68.912727</td>\n",
       "    </tr>\n",
       "    <tr>\n",
       "      <th>3</th>\n",
       "      <td>52.597363</td>\n",
       "      <td>6.417469</td>\n",
       "      <td>-5.726357</td>\n",
       "      <td>15247300.0</td>\n",
       "      <td>70.668146</td>\n",
       "    </tr>\n",
       "    <tr>\n",
       "      <th>4</th>\n",
       "      <td>53.164113</td>\n",
       "      <td>1.886792</td>\n",
       "      <td>1.183658</td>\n",
       "      <td>9188600.0</td>\n",
       "      <td>71.219849</td>\n",
       "    </tr>\n",
       "  </tbody>\n",
       "</table>\n",
       "</div>"
      ],
      "text/plain": [
       "   Adj. Close    HL_PCT  PCT_change  Adj. Volume      label\n",
       "0   50.322842  3.712563    0.324968   44659000.0  69.078238\n",
       "1   54.322689  0.710922    7.227007   22834300.0  67.839414\n",
       "2   54.869377  3.729433   -1.227880   18256100.0  68.912727\n",
       "3   52.597363  6.417469   -5.726357   15247300.0  70.668146\n",
       "4   53.164113  1.886792    1.183658    9188600.0  71.219849"
      ]
     },
     "execution_count": 15,
     "metadata": {},
     "output_type": "execute_result"
    }
   ],
   "source": [
    "df.head()"
   ]
  },
  {
   "cell_type": "code",
   "execution_count": 16,
   "metadata": {},
   "outputs": [],
   "source": [
    "X = np.array(df.drop(['label'],axis = 1))\n",
    "y = np.array(df['label'])\n",
    "df.dropna(inplace = True)"
   ]
  },
  {
   "cell_type": "code",
   "execution_count": 17,
   "metadata": {},
   "outputs": [],
   "source": [
    "X = preprocessing.scale(X)"
   ]
  },
  {
   "cell_type": "code",
   "execution_count": 18,
   "metadata": {},
   "outputs": [],
   "source": [
    "X_train, X_test, y_train, y_test = train_test_split(X,y, test_size = 0.2)"
   ]
  },
  {
   "cell_type": "code",
   "execution_count": 19,
   "metadata": {},
   "outputs": [],
   "source": [
    "clf = LinearRegression(n_jobs = -1)"
   ]
  },
  {
   "cell_type": "code",
   "execution_count": 20,
   "metadata": {},
   "outputs": [],
   "source": [
    "model  = clf.fit(X_train, y_train)\n",
    "score = clf.score(X_test, y_test)\n",
    "predict = model.predict(X_test)"
   ]
  },
  {
   "cell_type": "code",
   "execution_count": 21,
   "metadata": {},
   "outputs": [
    {
     "name": "stdout",
     "output_type": "stream",
     "text": [
      "The accuracy of the model's prediction: 0.9783974627582368\n"
     ]
    }
   ],
   "source": [
    "print('The accuracy of the model\\'s prediction:', score)"
   ]
  },
  {
   "cell_type": "markdown",
   "metadata": {},
   "source": [
    "the y intercept"
   ]
  },
  {
   "cell_type": "code",
   "execution_count": 32,
   "metadata": {},
   "outputs": [
    {
     "data": {
      "text/plain": [
       "412.3288777373444"
      ]
     },
     "execution_count": 32,
     "metadata": {},
     "output_type": "execute_result"
    }
   ],
   "source": [
    "clf.intercept_"
   ]
  },
  {
   "cell_type": "markdown",
   "metadata": {},
   "source": [
    "## Using the Regression built from scratch "
   ]
  },
  {
   "cell_type": "code",
   "execution_count": 22,
   "metadata": {},
   "outputs": [],
   "source": [
    "from LinearRegression import LinearRegression\n",
    "reg = LinearRegression(eta =  0.01, n_iter = 1000)\n",
    "model2 = reg.fit(X_train, y_train)\n",
    "pre = reg.predict(X_test)"
   ]
  },
  {
   "cell_type": "code",
   "execution_count": 34,
   "metadata": {},
   "outputs": [
    {
     "name": "stdout",
     "output_type": "stream",
     "text": [
      "The model's accuracy is: 0.9782476963907837\n"
     ]
    }
   ],
   "source": [
    "print('The model\\'s accuracy is:',reg.score(y_test,pre))"
   ]
  },
  {
   "cell_type": "code",
   "execution_count": 24,
   "metadata": {
    "scrolled": true
   },
   "outputs": [],
   "source": [
    "from sklearn.metrics import r2_score"
   ]
  },
  {
   "cell_type": "code",
   "execution_count": 35,
   "metadata": {},
   "outputs": [
    {
     "name": "stdout",
     "output_type": "stream",
     "text": [
      "The model's accuracy using sklearn: 0.9782476963907837\n"
     ]
    }
   ],
   "source": [
    "print('The model\\'s accuracy using sklearn:',r2_score(y_test,pre))"
   ]
  },
  {
   "cell_type": "markdown",
   "metadata": {},
   "source": [
    "squared error computed by the model is the same as that of sklearn"
   ]
  },
  {
   "cell_type": "markdown",
   "metadata": {},
   "source": [
    "y_intercept"
   ]
  },
  {
   "cell_type": "code",
   "execution_count": 36,
   "metadata": {},
   "outputs": [
    {
     "data": {
      "text/plain": [
       "413.2819489400481"
      ]
     },
     "execution_count": 36,
     "metadata": {},
     "output_type": "execute_result"
    }
   ],
   "source": [
    "reg.intercept(X_train, y_train)"
   ]
  }
 ],
 "metadata": {
  "kernelspec": {
   "display_name": "Python 3",
   "language": "python",
   "name": "python3"
  },
  "language_info": {
   "codemirror_mode": {
    "name": "ipython",
    "version": 3
   },
   "file_extension": ".py",
   "mimetype": "text/x-python",
   "name": "python",
   "nbconvert_exporter": "python",
   "pygments_lexer": "ipython3",
   "version": "3.7.3"
  }
 },
 "nbformat": 4,
 "nbformat_minor": 4
}
